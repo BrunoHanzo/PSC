{
 "cells": [
  {
   "cell_type": "markdown",
   "metadata": {},
   "source": [
    "1. Implemente um programa que solicite 10 números inteiros informados pelo usuário. Exiba a soma."
   ]
  },
  {
   "cell_type": "code",
   "execution_count": 11,
   "metadata": {
    "vscode": {
     "languageId": "java"
    }
   },
   "outputs": [],
   "source": [
    "import java.util.Scanner;\n",
    "public class Main\n",
    "{\n",
    "\tpublic static void main(String[] args) {\n",
    "\t    Scanner sc = new Scanner(System.in);\n",
    "\t    int soma_idade = 0;\n",
    "\t    for (int c = 1; c<=10; c++) {\n",
    "\t      System.out.println(\"Digite a idade da \" + c + \"° pessoa: \");\n",
    "\t      int idade = sc.nextInt();\n",
    "\t      soma_idade += idade;\n",
    "\t    }\n",
    "\t\tSystem.out.println(\"A soma das idades informadas é: \" + soma_idade);\n",
    "\t}\n",
    "}"
   ]
  },
  {
   "cell_type": "markdown",
   "metadata": {},
   "source": [
    "2. Implemente um programa que solicite 5 números do tipo ponto flutuante ao usuário. Exiba o maior número informado."
   ]
  },
  {
   "cell_type": "code",
   "execution_count": 13,
   "metadata": {
    "vscode": {
     "languageId": "java"
    }
   },
   "outputs": [],
   "source": [
    "import java.util.Scanner;\n",
    "public class Main\n",
    "{\n",
    "\tpublic static void main(String[] args) {\n",
    "\t    Scanner sc = new Scanner(System.in);\n",
    "\t    double maior_numero = 0;\n",
    "\t    for (int c = 1; c<=5; c++) {\n",
    "\t      System.out.println(\"Digite o  \" + c + \"° numero: \");\n",
    "\t      double numero = sc.nextDouble();\n",
    "\t      if (numero > maior_numero) {\n",
    "            maior_numero = numero;\n",
    "          }\n",
    "\t    }\n",
    "\t\tSystem.out.println(\"O maior número é: \" + maior_numero);\n",
    "\t}\n",
    "}"
   ]
  },
  {
   "cell_type": "markdown",
   "metadata": {},
   "source": [
    "3. Implemente um programa que solicite 10 números inteiros ao usuário. Informe quantos números são pares."
   ]
  },
  {
   "cell_type": "code",
   "execution_count": null,
   "metadata": {
    "vscode": {
     "languageId": "java"
    }
   },
   "outputs": [],
   "source": [
    "import java.util.Scanner;\n",
    "public class Main\n",
    "{\n",
    "\tpublic static void main(String[] args) {\n",
    "\t    Scanner sc = new Scanner(System.in);\n",
    "\t    int qtd_pares = 0;\n",
    "\t    for (int c = 1; c<=10; c++) {\n",
    "\t      System.out.println(\"Digite o \" + c + \"° numero: \");\n",
    "\t      int numero = sc.nextInt();\n",
    "\t      if (numero % 2 == 0) {\n",
    "            qtd_pares ++\n",
    "          }\n",
    "\t    }\n",
    "\t\tSystem.out.println(\"O número de valores pares digitados é: \" + qtd_pares);\n",
    "\t}\n",
    "}"
   ]
  },
  {
   "cell_type": "markdown",
   "metadata": {},
   "source": [
    "4. Escreva um algoritmo que receba a idade e o peso de sete pessoas. Calcule e exiba a quantidade de pessoas com mais de 90 quilos e a média das idades das sete pessoas."
   ]
  },
  {
   "cell_type": "code",
   "execution_count": null,
   "metadata": {
    "vscode": {
     "languageId": "java"
    }
   },
   "outputs": [],
   "source": [
    "import java.util.Scanner;\n",
    "public class Main\n",
    "{\n",
    "\tpublic static void main(String[] args) {\n",
    "\t    Scanner sc = new Scanner(System.in);\n",
    "\t    int qtd_pessoas = 0;\n",
    "        double media_idade = 0;\n",
    "\t    for (int c = 1; c<=7; c++) {\n",
    "\t      System.out.println(\"Digite a idade da \" + c + \"° pessoa: \");\n",
    "\t      int idade = sc.nextInt();\n",
    "          media_idade += idade;\n",
    "          System.out.println(\"Digite o peso da \" + c + \"° pessoa: \");\n",
    "          double peso = sc.nextDouble();\n",
    "          if (peso > 90) {\n",
    "            qtd_pessoas ++;\n",
    "          }\n",
    "          if (c == 7) {\n",
    "            media_idade = media_idade/c;\n",
    "          }\n",
    "\t    }\n",
    "\t\tSystem.out.println(\"A media das idades é : \" + media_idade);\n",
    "\t\tSystem.out.println(\"A quantidade de pessoas com mais de 90kg é : \" + qtd_pessoas);\n",
    "\t}\n",
    "}"
   ]
  },
  {
   "cell_type": "markdown",
   "metadata": {},
   "source": [
    "5. Escreva um algoritmo que receba a idade, a altura e o peso de 25 pessoas. Calcule e exiba."
   ]
  },
  {
   "cell_type": "code",
   "execution_count": null,
   "metadata": {
    "vscode": {
     "languageId": "java"
    }
   },
   "outputs": [],
   "source": [
    "import java.util.Scanner;\n",
    "public class Main\n",
    "{\n",
    "\tpublic static void main(String[] args) {\n",
    "\t    Scanner sc = new Scanner(System.in);\n",
    "\t    for (int c = 1; c<=25; c++) {\n",
    "\t      System.out.println(\"Digite a idade da \" + c + \"° pessoa: \");\n",
    "\t      int idade = sc.nextInt();\n",
    "          System.out.println(\"Digite a altura da \" + c + \"° pessoa: \");\n",
    "          double altura = sc.nextDouble();\n",
    "          System.out.println(\"Digite o peso da \" + c + \"° pessoa: \");\n",
    "          double peso = sc.nextDouble();\n",
    "\t    }\n",
    "\t}\n",
    "}"
   ]
  },
  {
   "cell_type": "markdown",
   "metadata": {},
   "source": [
    "a) Quantidade de pessoas com idade superior a 50 anos."
   ]
  },
  {
   "cell_type": "code",
   "execution_count": null,
   "metadata": {
    "vscode": {
     "languageId": "java"
    }
   },
   "outputs": [],
   "source": [
    "import java.util.Scanner;\n",
    "public class Main\n",
    "{\n",
    "\tpublic static void main(String[] args) {\n",
    "\t    Scanner sc = new Scanner(System.in);\n",
    "        int qtd_idade = 0;\n",
    "\t    for (int c = 1; c<=25; c++) {\n",
    "\t      System.out.println(\"Digite a idade da \" + c + \"° pessoa: \");\n",
    "\t      int idade = sc.nextInt();\n",
    "          if (idade > 50) {\n",
    "            qtd_idade ++;\n",
    "          }\n",
    "\t    }\n",
    "        System.out.println(\"O numero de pessoas com idade superior a 50 é : \" + qtd_idade);\n",
    "\t}\n",
    "}"
   ]
  },
  {
   "cell_type": "markdown",
   "metadata": {},
   "source": [
    "b) A média das alturas das pessoas com idade entre 10 e 20 anos;"
   ]
  },
  {
   "cell_type": "code",
   "execution_count": null,
   "metadata": {
    "vscode": {
     "languageId": "java"
    }
   },
   "outputs": [],
   "source": [
    "import java.util.Scanner;\n",
    "public class Main\n",
    "{\n",
    "\tpublic static void main(String[] args) {\n",
    "\t    Scanner sc = new Scanner(System.in);\n",
    "\t\tdouble media_altura = 0;\n",
    "\t\tint contador = 0;\n",
    "\t    for (int c = 1; c<=25; c++) {\n",
    "\t      System.out.println(\"Digite a idade da \" + c + \"° pessoa: \");\n",
    "\t      int idade = sc.nextInt();\n",
    "          System.out.println(\"Digite a altura da \" + c + \"° pessoa: \");\n",
    "          double altura = sc.nextDouble();\n",
    "\t\t  if (idade > 10 && idade < 20) {\n",
    "\t\t\tmedia_altura += altura;\n",
    "\t\t\tcontador ++;\n",
    "\t\t  }\n",
    "\t    }\n",
    "\t\tSystem.out.println(\"A média da altura das pessoas com idade entre 10 e 20 é : \" + (media_altura/contador));\n",
    "\t}\n",
    "}"
   ]
  },
  {
   "cell_type": "markdown",
   "metadata": {},
   "source": [
    "c) A porcentagem de pessoas com peso inferior a 40 quilos entre todas as analisadas."
   ]
  },
  {
   "cell_type": "code",
   "execution_count": null,
   "metadata": {
    "vscode": {
     "languageId": "java"
    }
   },
   "outputs": [],
   "source": [
    "import java.util.Scanner;\n",
    "public class Main\n",
    "{\n",
    "\tpublic static void main(String[] args) {\n",
    "\t    Scanner sc = new Scanner(System.in);\n",
    "\t\tdouble peso_inferior = 0;\n",
    "\t\tdouble porcentagem = 0;\n",
    "\t    for (int c = 1; c<=25; c++) {\n",
    "\t      System.out.println(\"Digite o peso da \" + c + \"° pessoa: \");\n",
    "\t      double peso = sc.nextDouble();\n",
    "          if (peso < 40) {\n",
    "            peso_inferior ++;\n",
    "          }\n",
    "\t\t  if (c == 25) {\n",
    "\t\t\tporcentagem = peso_inferior/c * 100;\n",
    "\t\t  }\n",
    "\t    }\n",
    "        System.out.println(\"A porcentagem de pessoas com peso inferior a 40kg é : \" + porcentagem + \"%\");\n",
    "\t}\n",
    "}"
   ]
  },
  {
   "cell_type": "markdown",
   "metadata": {},
   "source": [
    "6. Faça um programa que receba dez números, calcule e mostre a soma dos números pares, dos números ímpares e dos divisíveis por 3."
   ]
  },
  {
   "cell_type": "code",
   "execution_count": null,
   "metadata": {
    "vscode": {
     "languageId": "java"
    }
   },
   "outputs": [],
   "source": [
    "import java.util.Scanner;\n",
    "public class Main\n",
    "{\n",
    "\tpublic static void main(String[] args) {\n",
    "\t    Scanner sc = new Scanner(System.in);\n",
    "\t    int soma_pares = 0;\n",
    "        int soma_impares = 0;\n",
    "        int soma_div3 = 0;\n",
    "\t    for (int c = 1; c<=10; c++) {\n",
    "\t      System.out.println(\"Digite o \" + c + \"° numero: \");\n",
    "\t      int numero = sc.nextInt();\n",
    "\t      if (numero % 2 == 0) {\n",
    "            soma_pares += numero;\n",
    "          } \n",
    "          else {\n",
    "            soma_impares += numero;\n",
    "          }\n",
    "\n",
    "          if (numero % 3 == 0) {\n",
    "                soma_div3 += numero;\n",
    "          }\n",
    "\t    }\n",
    "\t\tSystem.out.println(\"A soma dos valores pares somados é: \" + soma_pares);\n",
    "        System.out.println(\"A soma dos valores impares somados é: \" + soma_impares);\n",
    "        System.out.println(\"A soma dos valores divisiveis por 3 somados é: \" + soma_div3);\n",
    "\t}\n",
    "}"
   ]
  },
  {
   "cell_type": "markdown",
   "metadata": {},
   "source": [
    "7. Faça um programa que exiba todos os números entre 1000 e 2000 que quando divisíveis por 5 produzam resto 3."
   ]
  },
  {
   "cell_type": "code",
   "execution_count": null,
   "metadata": {
    "vscode": {
     "languageId": "java"
    }
   },
   "outputs": [],
   "source": [
    "import java.util.Scanner;\n",
    "public class Main\n",
    "{\n",
    "\tpublic static void main(String[] args) {\n",
    "\t    Scanner sc = new Scanner(System.in);\n",
    "\t    for (int c = 1000; c<=2000; c++) {\n",
    "\t      if (c % 5 == 3) {\n",
    "            System.out.println(c);\n",
    "          } \n",
    "\t    }\n",
    "\t}\n",
    "}"
   ]
  },
  {
   "cell_type": "markdown",
   "metadata": {},
   "source": [
    "8. Implemente um programa que solicite ao usuário um número. Exiba a tabuada de 0 a 100 deste número."
   ]
  },
  {
   "cell_type": "code",
   "execution_count": null,
   "metadata": {
    "vscode": {
     "languageId": "java"
    }
   },
   "outputs": [],
   "source": [
    "import java.util.Scanner;\n",
    "public class Main\n",
    "{\n",
    "\tpublic static void main(String[] args) {\n",
    "\t    Scanner sc = new Scanner(System.in);\n",
    "        System.out.println(\"Digite um número para saber sua tabuada: \");\n",
    "        int numero = sc.nextInt();\n",
    "        System.out.println(\"Tabuada do número \" + numero);\n",
    "\t    for (int c = 0; c<=100; c++) {\n",
    "\t      System.out.println(numero + \" x \" + c + \" = \" + numero*c);\n",
    "\t    }\n",
    "\t}\n",
    "}"
   ]
  },
  {
   "cell_type": "markdown",
   "metadata": {},
   "source": [
    "9. Escreva um algoritmo que calcule o Fatorial de um número."
   ]
  },
  {
   "cell_type": "code",
   "execution_count": null,
   "metadata": {
    "vscode": {
     "languageId": "java"
    }
   },
   "outputs": [],
   "source": [
    "import java.util.Scanner;\n",
    "public class Main\n",
    "{\n",
    "\tpublic static void main(String[] args) {\n",
    "\t    Scanner sc = new Scanner(System.in);\n",
    "        String expressao = \"\";\n",
    "        int fatorial = 1;\n",
    "        System.out.println(\"Digite um número para saber seu fatorial: \");\n",
    "        int numero = sc.nextInt();\n",
    "        System.out.println(\"Fatorial do número \" + numero);\n",
    "        for (int c = numero; c >= 1; c--) {\n",
    "            fatorial *= c;\n",
    "            expressao += c;\n",
    "            if (c > 1) {\n",
    "                expressao += \" x \";\n",
    "            }\n",
    "        }\n",
    "        System.out.println(numero + \"! = \" + expressao + \" = \" + fatorial);\n",
    "    }\n",
    "}"
   ]
  },
  {
   "cell_type": "markdown",
   "metadata": {},
   "source": [
    "10. Escreva um algoritmo que identifique se um número é primo ou não."
   ]
  },
  {
   "cell_type": "code",
   "execution_count": null,
   "metadata": {
    "vscode": {
     "languageId": "java"
    }
   },
   "outputs": [],
   "source": [
    "import java.util.Scanner;\n",
    "public class Main\n",
    "{\n",
    "\tpublic static void main(String[] args) {\n",
    "\t    Scanner sc = new Scanner(System.in);\n",
    "        int contador = 0;\n",
    "        System.out.println(\"Digite um número para saber se ele é um número primo: \");\n",
    "        int numero = sc.nextInt();\n",
    "        for (int c = 1; c <= numero; c++) {\n",
    "            if (numero % c == 0) {\n",
    "                contador ++;\n",
    "            }\n",
    "        }\n",
    "        if (contador == 2) {\n",
    "        System.out.println(\"O número \" + numero + \" é primo!\");\n",
    "        }\n",
    "        else {System.out.println(\"O número \" + numero + \" não é primo!\");\n",
    "       }        \n",
    "    }\n",
    "}"
   ]
  },
  {
   "cell_type": "markdown",
   "metadata": {},
   "source": [
    "11. Escreva um algoritmo que receba a idade e o peso de sete pessoas. Calcule e exiba a quantidade de pessoas com mais de 90 quilos e a média das idades das sete pessoas."
   ]
  },
  {
   "cell_type": "code",
   "execution_count": null,
   "metadata": {
    "vscode": {
     "languageId": "java"
    }
   },
   "outputs": [],
   "source": [
    "import java.util.Scanner;\n",
    "public class Main\n",
    "{\n",
    "\tpublic static void main(String[] args) {\n",
    "\t    Scanner sc = new Scanner(System.in);\n",
    "\t\tint soma_idade = 0;\n",
    "        int media_idade = 0;\n",
    "\t\tint qtd_pessoas = 0;\n",
    "\t    for (int c = 1; c<=7; c++) {\n",
    "\t      System.out.println(\"Digite a idade da \" + c + \"° pessoa: \");\n",
    "\t      int idade = sc.nextInt();\n",
    "          soma_idade += idade;\n",
    "          System.out.println(\"Digite a altura da \" + c + \"° pessoa: \");\n",
    "          double peso = sc.nextDouble();\n",
    "\t\t  if (peso > 90) {\n",
    "\t\t\tqtd_pessoas ++;\n",
    "\t\t  }\n",
    "\t    }\n",
    "        media_idade = soma_idade/7;\n",
    "        \n",
    "\t\tSystem.out.println(\"A quantidade de pessoas com mais de 90kg é : \" + qtd_pessoas);\n",
    "        System.out.println(\"A média da idade é : \" + media_idade);\n",
    "\t}\n",
    "}"
   ]
  }
 ],
 "metadata": {
  "kernelspec": {
   "display_name": "Java",
   "language": "java",
   "name": "java"
  },
  "language_info": {
   "codemirror_mode": "java",
   "file_extension": ".jshell",
   "mimetype": "text/x-java-source",
   "name": "Java",
   "pygments_lexer": "java",
   "version": "22.0.1+8-16"
  }
 },
 "nbformat": 4,
 "nbformat_minor": 2
}
