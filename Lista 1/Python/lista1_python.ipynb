{
 "cells": [
  {
   "cell_type": "markdown",
   "metadata": {},
   "source": [
    "1. Implemente um programa que solicite 10 números inteiros informados pelo usuário. Exiba a soma."
   ]
  },
  {
   "cell_type": "code",
   "execution_count": 3,
   "metadata": {},
   "outputs": [
    {
     "name": "stdout",
     "output_type": "stream",
     "text": [
      "A soma das idades é: 55\n"
     ]
    }
   ],
   "source": [
    "soma_idade = 0\n",
    "for c in range(1,11):\n",
    "    idade = int(input(f'Digite a idade da {c}° pessoa: '))\n",
    "    soma_idade += idade\n",
    "print(f'A soma das idades é: {soma_idade}')"
   ]
  },
  {
   "cell_type": "markdown",
   "metadata": {},
   "source": [
    "2. Implemente um programa que solicite 5 números do tipo ponto flutuante ao usuário. Exiba o maior número informado."
   ]
  },
  {
   "cell_type": "code",
   "execution_count": 2,
   "metadata": {},
   "outputs": [
    {
     "name": "stdout",
     "output_type": "stream",
     "text": [
      "O maior número de ponto flutuante digitado foi: 7.5\n"
     ]
    }
   ],
   "source": [
    "maior = 0\n",
    "for c in range(1,6):\n",
    "    numero = float(input(f'Digite o {c}° número: '))\n",
    "    if numero > maior:\n",
    "        maior = numero\n",
    "print(f'O maior número de ponto flutuante digitado foi: {maior}')"
   ]
  },
  {
   "cell_type": "markdown",
   "metadata": {},
   "source": [
    "3. Implemente um programa que solicite 10 números inteiros ao usuário. Informe quantos números são pares."
   ]
  },
  {
   "cell_type": "code",
   "execution_count": 3,
   "metadata": {},
   "outputs": [
    {
     "name": "stdout",
     "output_type": "stream",
     "text": [
      "A quantidade de números pares digitados foi: 5\n"
     ]
    }
   ],
   "source": [
    "qtd_pares = 0\n",
    "for c in range(1,11):\n",
    "    numero = int(input(f'Digite o {c}° número: '))\n",
    "    if numero % 2 == 0:\n",
    "        qtd_pares += 1\n",
    "print(f'A quantidade de números pares digitados foi: {qtd_pares}')"
   ]
  },
  {
   "cell_type": "markdown",
   "metadata": {},
   "source": [
    "4. Escreva um algoritmo que receba a idade e o peso de sete pessoas. Calcule e exiba a quantidade de pessoas com mais de 90 quilos e a média das idades das sete pessoas."
   ]
  },
  {
   "cell_type": "code",
   "execution_count": 5,
   "metadata": {},
   "outputs": [
    {
     "name": "stdout",
     "output_type": "stream",
     "text": [
      "A media da idade é: 4.0\n",
      "A quantidade de pessoas com peso acima de 90kg foi: 1\n"
     ]
    }
   ],
   "source": [
    "soma_idade = 0\n",
    "qtd_pessoas = 0\n",
    "media_idade = 0\n",
    "for c in range(1,8):\n",
    "    idade = int(input(f'Digite a idade da {c}° pessoa: '))\n",
    "    soma_idade += idade\n",
    "    peso = float(input(f'Digite o peso da {c}° pessoa: '))\n",
    "    if peso > 90:\n",
    "        qtd_pessoas += 1\n",
    "media_idade = soma_idade/7\n",
    "print(f'A media da idade é: {media_idade}')\n",
    "print(f'A quantidade de pessoas com peso acima de 90kg foi: {qtd_pessoas}')"
   ]
  },
  {
   "cell_type": "markdown",
   "metadata": {},
   "source": [
    "5. Escreva um algoritmo que receba a idade, a altura e o peso de 25 pessoas. Calcule e exiba."
   ]
  },
  {
   "cell_type": "code",
   "execution_count": 11,
   "metadata": {},
   "outputs": [],
   "source": [
    "pessoas = {}\n",
    "for c in range(1,26):\n",
    "    idade = int(input(f'Digite a idade da {c}° pessoa: '))\n",
    "    altura = float(input(f'Digite a altura da {c}° pessoa: '))\n",
    "    peso = float(input(f'Digite o peso da {c}° pessoa: '))\n",
    "    pessoas[f'pessoa{c}'] = {'idade' : idade, 'altura' : altura, 'peso' : peso}"
   ]
  },
  {
   "cell_type": "code",
   "execution_count": 15,
   "metadata": {},
   "outputs": [
    {
     "name": "stdout",
     "output_type": "stream",
     "text": [
      "{'pessoa1': {'idade': 56, 'altura': 56.0, 'peso': 56.0}, 'pessoa2': {'idade': 15, 'altura': 15.0, 'peso': 15.0}, 'pessoa3': {'idade': 2, 'altura': 2.0, 'peso': 2.0}, 'pessoa4': {'idade': 90, 'altura': 90.0, 'peso': 90.0}, 'pessoa5': {'idade': 91, 'altura': 91.0, 'peso': 91.0}}\n"
     ]
    }
   ],
   "source": [
    "print(pessoas)"
   ]
  },
  {
   "cell_type": "markdown",
   "metadata": {},
   "source": [
    "a) Quantidade de pessoas com idade superior a 50 anos."
   ]
  },
  {
   "cell_type": "code",
   "execution_count": 26,
   "metadata": {},
   "outputs": [
    {
     "name": "stdout",
     "output_type": "stream",
     "text": [
      "O número de pessoas com idade superior a 50 é: 3\n"
     ]
    }
   ],
   "source": [
    "cont_idade = 0\n",
    "for key, value in pessoas.items():\n",
    "    if value['idade'] > 50:\n",
    "        cont_idade += 1\n",
    "print(f'O número de pessoas com idade superior a 50 é: {cont_idade}')"
   ]
  },
  {
   "cell_type": "markdown",
   "metadata": {},
   "source": [
    "b) A média das alturas das pessoas com idade entre 10 e 20 anos;"
   ]
  },
  {
   "cell_type": "code",
   "execution_count": 30,
   "metadata": {},
   "outputs": [
    {
     "name": "stdout",
     "output_type": "stream",
     "text": [
      "A media da altura das pessoas com idade entre 10 e 20 anos é: 15.0\n"
     ]
    }
   ],
   "source": [
    "soma_altura = 0\n",
    "media_altura = 0\n",
    "cont_idade_10_20 = 0\n",
    "for key, value in pessoas.items():\n",
    "    if value['idade'] > 10 and value['idade'] < 20:\n",
    "        cont_idade_10_20 += 1\n",
    "        soma_altura = value['altura']\n",
    "if cont_idade_10_20 == 0:\n",
    "    print(f'Não tem pessoas com idade entre 10 a 20 anos')\n",
    "else:\n",
    "    media_altura = soma_altura/cont_idade_10_20\n",
    "    print(f'A media da altura das pessoas com idade entre 10 e 20 anos é: {media_altura}')"
   ]
  },
  {
   "cell_type": "markdown",
   "metadata": {},
   "source": [
    "c) A porcentagem de pessoas com peso inferior a 40 quilos entre todas as analisadas."
   ]
  },
  {
   "cell_type": "code",
   "execution_count": 32,
   "metadata": {},
   "outputs": [
    {
     "name": "stdout",
     "output_type": "stream",
     "text": [
      "56.0\n",
      "15.0\n",
      "2.0\n",
      "90.0\n",
      "91.0\n",
      "A porcentagem de pessoas com peso inferio a 40kg é: 40.0\n"
     ]
    }
   ],
   "source": [
    "contador = 0\n",
    "cont_peso = 0\n",
    "porcentagem = 0\n",
    "for key, value in pessoas.items():\n",
    "    contador += 1\n",
    "    print(value['peso'])\n",
    "    if value['peso'] < 40:\n",
    "        cont_peso += 1\n",
    "porcentagem = cont_peso/contador * 100\n",
    "print(f'A porcentagem de pessoas com peso inferio a 40kg é: {porcentagem}')"
   ]
  },
  {
   "cell_type": "markdown",
   "metadata": {},
   "source": [
    "6. Faça um programa que receba dez números, calcule e mostre a soma dos números pares, dos números ímpares e dos divisíveis por 3."
   ]
  },
  {
   "cell_type": "code",
   "execution_count": 33,
   "metadata": {},
   "outputs": [
    {
     "name": "stdout",
     "output_type": "stream",
     "text": [
      "Soma dos valores pares: 30\n",
      "Soma dos valores impares: 27\n",
      "Soma dos valores divisiveis por 3: 9\n"
     ]
    }
   ],
   "source": [
    "soma_pares = 0\n",
    "soma_impares = 0\n",
    "soma_div3 = 0\n",
    "for c in range(1,11):\n",
    "    numero = int(input(f'Digite o {c}° valor: '))\n",
    "    if numero % 2 == 0:\n",
    "        soma_pares += numero\n",
    "    else:\n",
    "        soma_impares += numero\n",
    "    if numero % 3 == 0:\n",
    "        soma_div3 += numero\n",
    "\n",
    "print(f'Soma dos valores pares: {soma_pares}')\n",
    "print(f'Soma dos valores impares: {soma_impares}')\n",
    "print(f'Soma dos valores divisiveis por 3: {soma_div3}')"
   ]
  },
  {
   "cell_type": "markdown",
   "metadata": {},
   "source": [
    "7. Faça um programa que exiba todos os números entre 1000 e 2000 que quando divisíveis por 5 produzam resto 3."
   ]
  },
  {
   "cell_type": "code",
   "execution_count": 34,
   "metadata": {},
   "outputs": [
    {
     "name": "stdout",
     "output_type": "stream",
     "text": [
      "1003\n",
      "1008\n",
      "1013\n",
      "1018\n",
      "1023\n",
      "1028\n",
      "1033\n",
      "1038\n",
      "1043\n",
      "1048\n",
      "1053\n",
      "1058\n",
      "1063\n",
      "1068\n",
      "1073\n",
      "1078\n",
      "1083\n",
      "1088\n",
      "1093\n",
      "1098\n",
      "1103\n",
      "1108\n",
      "1113\n",
      "1118\n",
      "1123\n",
      "1128\n",
      "1133\n",
      "1138\n",
      "1143\n",
      "1148\n",
      "1153\n",
      "1158\n",
      "1163\n",
      "1168\n",
      "1173\n",
      "1178\n",
      "1183\n",
      "1188\n",
      "1193\n",
      "1198\n",
      "1203\n",
      "1208\n",
      "1213\n",
      "1218\n",
      "1223\n",
      "1228\n",
      "1233\n",
      "1238\n",
      "1243\n",
      "1248\n",
      "1253\n",
      "1258\n",
      "1263\n",
      "1268\n",
      "1273\n",
      "1278\n",
      "1283\n",
      "1288\n",
      "1293\n",
      "1298\n",
      "1303\n",
      "1308\n",
      "1313\n",
      "1318\n",
      "1323\n",
      "1328\n",
      "1333\n",
      "1338\n",
      "1343\n",
      "1348\n",
      "1353\n",
      "1358\n",
      "1363\n",
      "1368\n",
      "1373\n",
      "1378\n",
      "1383\n",
      "1388\n",
      "1393\n",
      "1398\n",
      "1403\n",
      "1408\n",
      "1413\n",
      "1418\n",
      "1423\n",
      "1428\n",
      "1433\n",
      "1438\n",
      "1443\n",
      "1448\n",
      "1453\n",
      "1458\n",
      "1463\n",
      "1468\n",
      "1473\n",
      "1478\n",
      "1483\n",
      "1488\n",
      "1493\n",
      "1498\n",
      "1503\n",
      "1508\n",
      "1513\n",
      "1518\n",
      "1523\n",
      "1528\n",
      "1533\n",
      "1538\n",
      "1543\n",
      "1548\n",
      "1553\n",
      "1558\n",
      "1563\n",
      "1568\n",
      "1573\n",
      "1578\n",
      "1583\n",
      "1588\n",
      "1593\n",
      "1598\n",
      "1603\n",
      "1608\n",
      "1613\n",
      "1618\n",
      "1623\n",
      "1628\n",
      "1633\n",
      "1638\n",
      "1643\n",
      "1648\n",
      "1653\n",
      "1658\n",
      "1663\n",
      "1668\n",
      "1673\n",
      "1678\n",
      "1683\n",
      "1688\n",
      "1693\n",
      "1698\n",
      "1703\n",
      "1708\n",
      "1713\n",
      "1718\n",
      "1723\n",
      "1728\n",
      "1733\n",
      "1738\n",
      "1743\n",
      "1748\n",
      "1753\n",
      "1758\n",
      "1763\n",
      "1768\n",
      "1773\n",
      "1778\n",
      "1783\n",
      "1788\n",
      "1793\n",
      "1798\n",
      "1803\n",
      "1808\n",
      "1813\n",
      "1818\n",
      "1823\n",
      "1828\n",
      "1833\n",
      "1838\n",
      "1843\n",
      "1848\n",
      "1853\n",
      "1858\n",
      "1863\n",
      "1868\n",
      "1873\n",
      "1878\n",
      "1883\n",
      "1888\n",
      "1893\n",
      "1898\n",
      "1903\n",
      "1908\n",
      "1913\n",
      "1918\n",
      "1923\n",
      "1928\n",
      "1933\n",
      "1938\n",
      "1943\n",
      "1948\n",
      "1953\n",
      "1958\n",
      "1963\n",
      "1968\n",
      "1973\n",
      "1978\n",
      "1983\n",
      "1988\n",
      "1993\n",
      "1998\n"
     ]
    }
   ],
   "source": [
    "for c in range (1000, 2001):\n",
    "    if c % 5 == 3:\n",
    "        print(c)"
   ]
  },
  {
   "cell_type": "markdown",
   "metadata": {},
   "source": [
    "8. Implemente um programa que solicite ao usuário um número. Exiba a tabuada de 0 a 100 deste número."
   ]
  },
  {
   "cell_type": "code",
   "execution_count": 35,
   "metadata": {},
   "outputs": [
    {
     "name": "stdout",
     "output_type": "stream",
     "text": [
      "Tabuada do numero 1\n",
      "1x0 = 0\n",
      "1x1 = 1\n",
      "1x2 = 2\n",
      "1x3 = 3\n",
      "1x4 = 4\n",
      "1x5 = 5\n",
      "1x6 = 6\n",
      "1x7 = 7\n",
      "1x8 = 8\n",
      "1x9 = 9\n",
      "1x10 = 10\n",
      "1x11 = 11\n",
      "1x12 = 12\n",
      "1x13 = 13\n",
      "1x14 = 14\n",
      "1x15 = 15\n",
      "1x16 = 16\n",
      "1x17 = 17\n",
      "1x18 = 18\n",
      "1x19 = 19\n",
      "1x20 = 20\n",
      "1x21 = 21\n",
      "1x22 = 22\n",
      "1x23 = 23\n",
      "1x24 = 24\n",
      "1x25 = 25\n",
      "1x26 = 26\n",
      "1x27 = 27\n",
      "1x28 = 28\n",
      "1x29 = 29\n",
      "1x30 = 30\n",
      "1x31 = 31\n",
      "1x32 = 32\n",
      "1x33 = 33\n",
      "1x34 = 34\n",
      "1x35 = 35\n",
      "1x36 = 36\n",
      "1x37 = 37\n",
      "1x38 = 38\n",
      "1x39 = 39\n",
      "1x40 = 40\n",
      "1x41 = 41\n",
      "1x42 = 42\n",
      "1x43 = 43\n",
      "1x44 = 44\n",
      "1x45 = 45\n",
      "1x46 = 46\n",
      "1x47 = 47\n",
      "1x48 = 48\n",
      "1x49 = 49\n",
      "1x50 = 50\n",
      "1x51 = 51\n",
      "1x52 = 52\n",
      "1x53 = 53\n",
      "1x54 = 54\n",
      "1x55 = 55\n",
      "1x56 = 56\n",
      "1x57 = 57\n",
      "1x58 = 58\n",
      "1x59 = 59\n",
      "1x60 = 60\n",
      "1x61 = 61\n",
      "1x62 = 62\n",
      "1x63 = 63\n",
      "1x64 = 64\n",
      "1x65 = 65\n",
      "1x66 = 66\n",
      "1x67 = 67\n",
      "1x68 = 68\n",
      "1x69 = 69\n",
      "1x70 = 70\n",
      "1x71 = 71\n",
      "1x72 = 72\n",
      "1x73 = 73\n",
      "1x74 = 74\n",
      "1x75 = 75\n",
      "1x76 = 76\n",
      "1x77 = 77\n",
      "1x78 = 78\n",
      "1x79 = 79\n",
      "1x80 = 80\n",
      "1x81 = 81\n",
      "1x82 = 82\n",
      "1x83 = 83\n",
      "1x84 = 84\n",
      "1x85 = 85\n",
      "1x86 = 86\n",
      "1x87 = 87\n",
      "1x88 = 88\n",
      "1x89 = 89\n",
      "1x90 = 90\n",
      "1x91 = 91\n",
      "1x92 = 92\n",
      "1x93 = 93\n",
      "1x94 = 94\n",
      "1x95 = 95\n",
      "1x96 = 96\n",
      "1x97 = 97\n",
      "1x98 = 98\n",
      "1x99 = 99\n",
      "1x100 = 100\n"
     ]
    }
   ],
   "source": [
    "numero = int(input('Digite um numero para saber sua tabuada: '))\n",
    "print(f'Tabuada do numero {numero}')\n",
    "for c in range (0,101):\n",
    "    print(f'{numero}x{c} = {numero*c}')"
   ]
  },
  {
   "cell_type": "markdown",
   "metadata": {},
   "source": [
    "9. Escreva um algoritmo que calcule o Fatorial de um número."
   ]
  },
  {
   "cell_type": "code",
   "execution_count": 58,
   "metadata": {},
   "outputs": [
    {
     "name": "stdout",
     "output_type": "stream",
     "text": [
      "Fatorial de 5\n",
      "5! = 5 x 4 x 3 x 2 x 1 = 120\n"
     ]
    }
   ],
   "source": [
    "numero = int(input('Digite um numero para saber seu fatorial: '))\n",
    "print(f'Fatorial de {numero}')\n",
    "print(f'{numero}! = ',end='')\n",
    "fatorial = numero\n",
    "for c in range(numero, 0, -1):\n",
    "    if c < numero:\n",
    "        fatorial *= c\n",
    "    if c == 1:\n",
    "        print(f'{c} = {fatorial}')\n",
    "    else:\n",
    "        print(f'{c} x ', end='')\n"
   ]
  },
  {
   "cell_type": "markdown",
   "metadata": {},
   "source": [
    "10. Escreva um algoritmo que identifique se um número é primo ou não."
   ]
  },
  {
   "cell_type": "code",
   "execution_count": 42,
   "metadata": {},
   "outputs": [
    {
     "name": "stdout",
     "output_type": "stream",
     "text": [
      "O número 1 é primo\n"
     ]
    }
   ],
   "source": [
    "cont_primo = 0\n",
    "numero = int(input('Digite um número para saber se é primo ou não: '))\n",
    "for c in range(1, numero+1):\n",
    "    if numero % c == 0:\n",
    "        cont_primo += 1\n",
    "if cont_primo == 2 or numero == 1:\n",
    "    print(f'O número {numero} é primo')\n",
    "else:\n",
    "    print(f'O número {numero} não é primo')"
   ]
  },
  {
   "cell_type": "markdown",
   "metadata": {},
   "source": [
    "11. Escreva um algoritmo que receba a idade e o peso de sete pessoas. Calcule e exiba a quantidade de pessoas com mais de 90 quilos e a média das idades das sete pessoas."
   ]
  },
  {
   "cell_type": "code",
   "execution_count": 59,
   "metadata": {},
   "outputs": [
    {
     "name": "stdout",
     "output_type": "stream",
     "text": [
      "A quantidade de pessoas com idade maior que 90kg é: 3\n",
      "A media da idade é: 4.0\n"
     ]
    }
   ],
   "source": [
    "cont_peso = 0\n",
    "soma_idade = 0\n",
    "media_idade = 0\n",
    "for c in range(1,8):\n",
    "    idade = int(input(f'Digite a idade da {c}° pessoa: '))\n",
    "    soma_idade += idade\n",
    "    peso = float(input(f'Digite o peso da {c}° pessoa: '))\n",
    "    if peso > 90:\n",
    "        cont_peso += 1\n",
    "media_idade = soma_idade/7\n",
    "print(f'A quantidade de pessoas com peso maior que 90kg é: {cont_peso}')\n",
    "print(f'A media da idade é: {media_idade}')"
   ]
  }
 ],
 "metadata": {
  "kernelspec": {
   "display_name": "Python 3",
   "language": "python",
   "name": "python3"
  },
  "language_info": {
   "codemirror_mode": {
    "name": "ipython",
    "version": 3
   },
   "file_extension": ".py",
   "mimetype": "text/x-python",
   "name": "python",
   "nbconvert_exporter": "python",
   "pygments_lexer": "ipython3",
   "version": "3.12.3"
  }
 },
 "nbformat": 4,
 "nbformat_minor": 2
}
