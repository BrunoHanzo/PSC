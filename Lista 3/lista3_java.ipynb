{
 "cells": [
  {
   "cell_type": "markdown",
   "metadata": {},
   "source": [
    "Para facilitar a legibilidade, agrupei as questões que tratavam sobre as mesmas classes."
   ]
  },
  {
   "cell_type": "markdown",
   "metadata": {},
   "source": [
    "Exercício 1: Criando uma Classe Simples\n",
    "Objetivo: Criar uma classe simples chamada Pessoa com atributos privados e métodos públicos para acessar e modificar esses atributos.\n",
    "• Crie uma classe chamada Pessoa.\n",
    "• Adicione os atributos privados nome (String) e idade (int).\n",
    "• Crie um construtor que inicialize esses atributos.\n",
    "• Adicione métodos getNome, setNome, getIdade e setIdade.\n",
    "\n",
    "Exercício 2: Criando Métodos na Classe\n",
    "Objetivo: Adicionar métodos na classe Pessoa para exibir informações.\n",
    "• Adicione um método exibirInformacoes na classe Pessoa que exiba o nome e a idade da pessoa.\n",
    "\n",
    "Exercício 3: Criando uma Subclasse\n",
    "Objetivo: Criar uma subclasse Estudante que herde de Pessoa.\n",
    "• Crie uma classe Estudante que herde da classe Pessoa.\n",
    "• Adicione um atributo privado curso (String).\n",
    "• Crie um construtor que inicialize os atributos da superclasse e o novo atributo curso.\n",
    "• Adicione métodos getCurso e setCurso.\n",
    "\n",
    "Exercício 4: Sobrescrita de Métodos\n",
    "Objetivo: Sobrescrever métodos na subclasse Estudante.\n",
    "• Sobrescreva o método exibirInformacoes na classe Estudante para exibir também o curso do estudante.\n",
    "\n",
    "Exercício 6: Sobrecarga de Construtores\n",
    "Objetivo: Implementar sobrecarga de construtores na classe Pessoa.\n",
    "• Adicione um construtor adicional na classe Pessoa que inicialize apenas o nome.\n",
    "• No construtor que inicializa apenas o nome, defina a idade como 0 por padrão.\n",
    "• Atualize a classe Estudante para usar o novo construtor de Pessoa, quando necessário.\n",
    "\n",
    "Exercício 9: Polimorfismo com Classes\n",
    "Objetivo: Demonstrar o polimorfismo usando classes.\n",
    "• Crie uma lista de objetos do tipo Pessoa.\n",
    "• Adicione objetos Pessoa e Estudante na lista.\n",
    "• Itere sobre a lista e chame o método exibirInformacoes para cada objeto, demonstrando o polimorfismo."
   ]
  },
  {
   "cell_type": "code",
   "execution_count": null,
   "metadata": {},
   "outputs": [],
   "source": [
    "public class Pessoa {\n",
    "    private String nome;\n",
    "    private int idade;\n",
    "\n",
    "    public Pessoa(String nome, int idade) {\n",
    "        this.nome = nome;\n",
    "        this.idade = idade;\n",
    "    }\n",
    "\n",
    "    public Pessoa(String nome) {\n",
    "        this.nome = nome;\n",
    "        this.idade = 0;\n",
    "    }\n",
    "\n",
    "    public String getNome() {\n",
    "        return nome;\n",
    "    }\n",
    "\n",
    "    public void setNome(String nome) {\n",
    "        this.nome = nome;\n",
    "    }\n",
    "\n",
    "    public int getIdade() {\n",
    "        return idade;\n",
    "    }\n",
    "\n",
    "    public void setIdade(int idade) {\n",
    "        this.idade = idade;\n",
    "    }\n",
    "\n",
    "    public void exibirInformacoes() {\n",
    "        System.out.println(\"Nome: \" + nome + \", Idade: \" + idade);\n",
    "    }\n",
    "}\n"
   ]
  },
  {
   "cell_type": "code",
   "execution_count": null,
   "metadata": {},
   "outputs": [],
   "source": [
    "public class Estudante extends Pessoa {\n",
    "    private String curso;\n",
    "\n",
    "    public Estudante(String nome, int idade, String curso) {\n",
    "        super(nome, idade);\n",
    "        this.curso = curso;\n",
    "    }\n",
    "\n",
    "    public Estudante(String nome, String curso) {\n",
    "        super(nome);\n",
    "        this.curso = curso;\n",
    "    }\n",
    "\n",
    "    public String getCurso() {\n",
    "        return curso;\n",
    "    }\n",
    "\n",
    "    public void setCurso(String curso) {\n",
    "        this.curso = curso;\n",
    "    }\n",
    "\n",
    "    @Override\n",
    "    public void exibirInformacoes() {\n",
    "        System.out.println(\"Nome: \" + getNome() + \", Idade: \" + getIdade() + \", Curso: \" + curso);\n",
    "    }\n",
    "}\n"
   ]
  },
  {
   "cell_type": "code",
   "execution_count": null,
   "metadata": {},
   "outputs": [],
   "source": [
    "import java.util.ArrayList;\n",
    "import java.util.List;\n",
    "\n",
    "public class Main {\n",
    "    public static void main(String[] args) {\n",
    "        List<Pessoa> pessoas = new ArrayList<>();\n",
    "\n",
    "        pessoas.add(new Pessoa(\"Bruno\", 30));\n",
    "        pessoas.add(new Pessoa(\"Iarin\"));\n",
    "        pessoas.add(new Estudante(\"Murta\", 22, \"Analise e Desenvolvimento de Sistemas\"));\n",
    "        pessoas.add(new Estudante(\"Gabi\", \"Sistemas de informacao\"));\n",
    "\n",
    "        for (Pessoa pessoa : pessoas) {\n",
    "            pessoa.exibirInformacoes();\n",
    "        }\n",
    "    }\n",
    "}\n"
   ]
  },
  {
   "cell_type": "markdown",
   "metadata": {},
   "source": []
  },
  {
   "cell_type": "markdown",
   "metadata": {},
   "source": [
    "Exercício 5: Criando uma Classe com Atributos Protegidos\n",
    "Objetivo: Criar uma classe Funcionario com atributos protegidos e derivar uma subclasse Gerente.\n",
    "• Crie uma classe Funcionario com atributos protegidos salario (double) e departamento (String).\n",
    "• Adicione um método exibirInformacoes na classe Funcionario para exibir as informações.\n",
    "• Crie uma subclasse Gerente que herde de Funcionario.\n",
    "• Adicione um atributo privado bonus (double) na classe Gerente.\n",
    "• Crie um construtor que inicialize os atributos de Funcionario e Gerente.\n",
    "\n",
    "Exercício 7: Trabalhando com Interfaces\n",
    "Objetivo: Criar uma interface Trabalhador e implementá-la na classe Funcionario.\n",
    "• Crie uma interface Trabalhador com um método trabalhar.\n",
    "• Implemente a interface Trabalhador na classe Funcionario.\n",
    "• Na implementação do método trabalhar, exiba uma mensagem indicando que o funcionário está trabalhando.\n",
    "• Atualize a classe Gerente para também implementar a interface Trabalhador.\n",
    "\n",
    "Exercício 8: Polimorfismo com Interfaces\n",
    "Objetivo: Demonstrar o polimorfismo usando a interface Trabalhador.\n",
    "• Crie uma classe Empresa com um método adicionarTrabalhador que receba um objeto do tipo Trabalhador.\n",
    "• No método adicionarTrabalhador, chame o método trabalhar.\n",
    "• Crie objetos de Funcionario e Gerente e adicione-os à empresa, demonstrando o polimorfismo"
   ]
  },
  {
   "cell_type": "code",
   "execution_count": null,
   "metadata": {},
   "outputs": [],
   "source": [
    "public class Funcionario implements Trabalhador {\n",
    "    protected double salario;\n",
    "    protected String departamento;\n",
    "\n",
    "    public Funcionario(double salario, String departamento) {\n",
    "        this.salario = salario;\n",
    "        this.departamento = departamento;\n",
    "    }\n",
    "\n",
    "    public void exibirInformacoes() {\n",
    "        System.out.println(\"Salário: \" + salario + \", Departamento: \" + departamento);\n",
    "    }\n",
    "\n",
    "    @Override\n",
    "    public void trabalhar() {\n",
    "        System.out.println(\"Funcionário está trabalhando no departamento \" + departamento);\n",
    "    }\n",
    "}"
   ]
  },
  {
   "cell_type": "code",
   "execution_count": null,
   "metadata": {},
   "outputs": [],
   "source": [
    "public class Gerente extends Funcionario {\n",
    "    private double bonus;\n",
    "\n",
    "    public Gerente(double salario, String departamento, double bonus) {\n",
    "        super(salario, departamento);\n",
    "        this.bonus = bonus;\n",
    "    }\n",
    "\n",
    "    @Override\n",
    "    public void exibirInformacoes() {\n",
    "        System.out.println(\"Salário: \" + salario + \", Departamento: \" + departamento + \", Bônus: \" + bonus);\n",
    "    }\n",
    "\n",
    "    @Override\n",
    "    public void trabalhar() {\n",
    "        System.out.println(\"Gerente está trabalhando no departamento \" + departamento + \" com bônus de \" + bonus);\n",
    "    }\n",
    "}\n"
   ]
  },
  {
   "cell_type": "code",
   "execution_count": null,
   "metadata": {},
   "outputs": [],
   "source": [
    "public interface Trabalhador {\n",
    "    void trabalhar();\n",
    "}"
   ]
  },
  {
   "cell_type": "code",
   "execution_count": null,
   "metadata": {},
   "outputs": [],
   "source": [
    "import java.util.ArrayList;\n",
    "import java.util.List;\n",
    "\n",
    "public class Empresa {\n",
    "    private List<Trabalhador> trabalhadores = new ArrayList<>();\n",
    "\n",
    "    public void adicionarTrabalhador(Trabalhador trabalhador) {\n",
    "        trabalhadores.add(trabalhador);\n",
    "        trabalhador.trabalhar();\n",
    "    }\n",
    "\n",
    "    public void exibirInformacoes() {\n",
    "        for (Trabalhador trabalhador : trabalhadores) {\n",
    "            if (trabalhador instanceof Funcionario) {\n",
    "                ((Funcionario) trabalhador).exibirInformacoes();\n",
    "            }\n",
    "        }\n",
    "    }\n",
    "}"
   ]
  },
  {
   "cell_type": "code",
   "execution_count": null,
   "metadata": {},
   "outputs": [],
   "source": [
    "// Main.java\n",
    "public class Main {\n",
    "    public static void main(String[] args) {\n",
    "        // Criando objetos de Funcionario e Gerente\n",
    "        Funcionario funcionario = new Funcionario(3000.00, \"Contabilidade\");\n",
    "        Gerente gerente = new Gerente(5000.00, \"TI\", 1000.00);\n",
    "\n",
    "        // Criando objeto da classe Empresa\n",
    "        Empresa empresa = new Empresa();\n",
    "\n",
    "        // Adicionando os trabalhadores à empresa e demonstrando polimorfismo\n",
    "        empresa.adicionarTrabalhador(funcionario);\n",
    "        empresa.adicionarTrabalhador(gerente);\n",
    "\n",
    "        // Exibindo informações de todos os trabalhadores\n",
    "        empresa.exibirInformacoes();\n",
    "    }\n",
    "}"
   ]
  },
  {
   "cell_type": "markdown",
   "metadata": {},
   "source": []
  },
  {
   "cell_type": "markdown",
   "metadata": {},
   "source": [
    "Exercício 10: Classe Abstrata\n",
    "Objetivo: Criar uma classe abstrata Veiculo e derivar subclasses Carro e Moto.\n",
    "• Crie uma classe abstrata Veiculo com um método abstrato mover.\n",
    "• Crie as classes Carro e Moto que herdem de Veiculo.\n",
    "• Implemente o método mover em ambas as classes, exibindo mensagens apropriadas para cada tipo de veículo.\n",
    "• Crie uma lista de objetos do tipo Veiculo e adicione objetos Carro e Moto na lista.\n",
    "• Itere sobre a lista e chame o método mover para cada objeto, demonstrando o polimorfismo."
   ]
  },
  {
   "cell_type": "code",
   "execution_count": null,
   "metadata": {},
   "outputs": [],
   "source": [
    "public abstract class Veiculo {\n",
    "\n",
    "    public abstract void mover();\n",
    "}"
   ]
  },
  {
   "cell_type": "code",
   "execution_count": null,
   "metadata": {},
   "outputs": [],
   "source": [
    "public class Carro extends Veiculo {\n",
    "    // Implementação do método mover para Carro\n",
    "    @Override\n",
    "    public void mover() {\n",
    "        System.out.println(\"O carro está se movendo.\");\n",
    "    }\n",
    "}"
   ]
  },
  {
   "cell_type": "code",
   "execution_count": null,
   "metadata": {},
   "outputs": [],
   "source": [
    "public class Moto extends Veiculo {\n",
    "\n",
    "    @Override\n",
    "    public void mover() {\n",
    "        System.out.println(\"A moto está se movendo.\");\n",
    "    }\n",
    "}"
   ]
  },
  {
   "cell_type": "code",
   "execution_count": null,
   "metadata": {},
   "outputs": [],
   "source": [
    "import java.util.ArrayList;\n",
    "import java.util.List;\n",
    "\n",
    "public class Main {\n",
    "    public static void main(String[] args) {\n",
    "        // Criando uma lista de objetos do tipo Veiculo\n",
    "        List<Veiculo> veiculos = new ArrayList<>();\n",
    "\n",
    "        // Adicionando objetos Carro e Moto na lista\n",
    "        veiculos.add(new Carro());\n",
    "        veiculos.add(new Moto());\n",
    "\n",
    "        // Iterando sobre a lista e chamando o método mover para cada objeto\n",
    "        for (Veiculo veiculo : veiculos) {\n",
    "            veiculo.mover();\n",
    "        }\n",
    "    }\n",
    "}"
   ]
  }
 ],
 "metadata": {
  "kernelspec": {
   "display_name": "Java",
   "language": "java",
   "name": "java"
  },
  "language_info": {
   "name": "java"
  }
 },
 "nbformat": 4,
 "nbformat_minor": 2
}
