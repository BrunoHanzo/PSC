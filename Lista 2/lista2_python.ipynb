{
 "cells": [
  {
   "cell_type": "markdown",
   "metadata": {},
   "source": [
    "1. Implemente um programa que carregue um vetor de seis elementos numéricos inteiros, calcule e mostre:\n",
    " A quantidade de números pares;\n",
    " Quais os números pares;\n",
    " A quantidade de números impares;\n",
    " Quais os números impares."
   ]
  },
  {
   "cell_type": "code",
   "execution_count": null,
   "metadata": {},
   "outputs": [],
   "source": [
    "vetor = []\n",
    "cont_pares = 0\n",
    "cont_impares = 0\n",
    "lista_pares = []\n",
    "lista_impares = []\n",
    "\n",
    "for c in range (1,7):\n",
    "    num = int(input(f'Digite o {c}° valor: '))\n",
    "    vetor.append(num)\n",
    "\n",
    "for v in vetor:\n",
    "    if v % 2 == 0:\n",
    "        cont_pares += 1\n",
    "        lista_pares.append(v)\n",
    "    else:\n",
    "        cont_impares += 1\n",
    "        lista_impares.append(v)\n",
    "        \n",
    "print()\n",
    "print(f'Valores no vetor: {vetor}')        \n",
    "print()\n",
    "print(f'Quantidade de números pares: {cont_pares}')\n",
    "print(f'Números pares: {lista_pares}')\n",
    "print(f'Quantidade de números pares: {cont_pares}')\n",
    "print(f'Números impares: {lista_pares}')\n"
   ]
  },
  {
   "cell_type": "markdown",
   "metadata": {},
   "source": [
    "2. Implemente um programa que carregue um vetor com 15 elementos inteiros e verifique a existência de elementos iguais a 30, mostrando as posições em que esses elementos apareceram."
   ]
  },
  {
   "cell_type": "code",
   "execution_count": null,
   "metadata": {},
   "outputs": [],
   "source": [
    "vetor = []\n",
    "posicao_30 = []\n",
    "\n",
    "for c in range (1,16):\n",
    "    num = int(input(f'Digite o {c}° valor: '))\n",
    "    vetor.append(num)\n",
    "\n",
    "for i,v in enumerate(vetor):\n",
    "    if v == 30:\n",
    "        posicao_30.append(i)\n",
    "\n",
    "print()\n",
    "print(f'Valores no vetor: {vetor}')\n",
    "print()\n",
    "print (f'O número {v} foi identificado nos indices {posicao_30}')\n"
   ]
  },
  {
   "cell_type": "markdown",
   "metadata": {},
   "source": [
    "3. Implemente um programa que receba o total das vendas de cada vendedor e os armazene em um vetor. Receba também o percentual de comissão de cada vendedor e armazene-os em um outro vetor. Receba os nomes desses vendedores e armazene-os em um terceiro vetor. Existem apenas dez vendedores. Calcule e mostre:\n",
    " Um relatório com os nomes dos vendedores e os valores a receber;\n",
    " O total das vendas de todos os vendedores;\n",
    " O maior valor a receber e quem o receberá;\n",
    " O menor valor a receber e quem o receberá;"
   ]
  },
  {
   "cell_type": "code",
   "execution_count": null,
   "metadata": {},
   "outputs": [],
   "source": [
    "tot_vendas = []\n",
    "comissoes = []\t\n",
    "vendedores = []\n",
    "soma_valores = 0\n",
    "maior_valor = 0\n",
    "menor_valor = 0\n",
    "\n",
    "for c in range (1, 3):\n",
    "    venda = int(input(f'Total de vendas do {c}° vendedor: '))\n",
    "    tot_vendas.append(venda)\n",
    "    comissao = int(input(f'Porcentagem da comissão do {c}° vendedor: '))\n",
    "    comissoes.append(comissao)\n",
    "    vendedor = input(f'Nome do {c}° vendedor: ')\n",
    "    vendedores.append(vendedor)\n",
    "    \n",
    "print()\n",
    "print('Relatorio:')\n",
    "for ind, nome in enumerate(vendedores):\n",
    "    valor = tot_vendas[ind] * (comissoes[ind]/100)\n",
    "    print(f'O vendedor {nome} recebeu R${valor}')\n",
    "    soma_valores += tot_vendas[ind]\n",
    "    if ind == 0:\n",
    "        maior_valor = valor\n",
    "        maior_vend = nome\n",
    "        menor_valor = valor\n",
    "        menor_vend = nome\n",
    "    else:\n",
    "        if valor > maior_valor:\n",
    "            maior_valor = valor\n",
    "            maior_vend = nome\n",
    "        elif valor < menor_valor:\n",
    "            menor_valor = valor\n",
    "            menor_vend = nome\n",
    "\n",
    "print(f'Total de vendas: {soma_valores}')\n",
    "print(f'O vendedor que vai receber mais é o {maior_vend}, que recebeu R${maior_valor}')\n",
    "print(f'O vendedor que vai receber menos é o {menor_vend}, que recebeu R${menor_valor}')\n"
   ]
  },
  {
   "cell_type": "markdown",
   "metadata": {},
   "source": [
    "\n",
    "4. Implemente um programa que receba o nome de cinco produtos e seus respectivos preços em dois vetores, calcule e mostre:\n",
    " A quantidade de produtos com preço inferior a R$ 50,00\n",
    " O nome dos produtos com preço entre R$ 50,00 e R$ 100,00\n",
    " A media dos preços dos produtos com preço superior a R$ 100,00."
   ]
  },
  {
   "cell_type": "code",
   "execution_count": null,
   "metadata": {},
   "outputs": [],
   "source": [
    "produtos = []\n",
    "valores = []\n",
    "cont_menor = 0\n",
    "media = 0\n",
    "cont_maior = 0\n",
    "val_100 = 0\n",
    "\n",
    "for c in range (1,6):\n",
    "    produto = input(f'Digite o nome do {c}° produto: ')\n",
    "    produtos.append(produto)\n",
    "    valor = int(input(f'Digite o valor do {c}° produto: '))\n",
    "    valores.append(valor)\n",
    "\n",
    "print()\n",
    "print(f'O nome dos produtos com preço entre R$ 50,00 e R$ 100,00 são: ')\n",
    "for ind, val in enumerate(valores):\n",
    "    if val < 50:\n",
    "        cont_menor += 1\n",
    "    elif val > 100:\n",
    "        cont_maior += 1\n",
    "        val_100 += val\n",
    "    else:\n",
    "        print(produtos[ind], end = ' ')\n",
    " \n",
    "print()\n",
    "print(f'Quantidade de produtos com valor menor que R$50,00: {cont_menor}')\n",
    "if val_100 > 0:\n",
    "    media = val_100 / cont_maior\n",
    "    print(f'A média dos valores de produtos com valor maior que R$100,00: R${media}')\n",
    "else:\n",
    "    print('Não existe valores maiores que R$100,00')\n"
   ]
  },
  {
   "cell_type": "markdown",
   "metadata": {},
   "source": [
    "5. Implemente um programa que leia um vetor de 15 posições com números inteiros. Crie em seguida um vetor resultante (máximo 15 posições) que contenha apenas os números primos do primeiro vetor. Escreva o vetor resultante. Para este exercício utilize a função de calcular primo implementada na lista 3."
   ]
  },
  {
   "cell_type": "code",
   "execution_count": null,
   "metadata": {},
   "outputs": [],
   "source": [
    "valores = []\n",
    "valores_primo = []\n",
    "contador = 0\t\n",
    "\n",
    "for c in range (1,16):\n",
    "    valor = int(input(f'Digite o {c}° valor: '))\n",
    "    valores.append(valor)\n",
    "\n",
    "for valor in valores:\n",
    "    for c in range(1, valor + 1):\n",
    "        if valor == 1:\n",
    "            valores_primo.append(valor)\n",
    "        elif valor % c == 0:\n",
    "            contador += 1\n",
    "    if contador == 2:\n",
    "        valores_primo.append(valor)\n",
    "    contador = 0\n",
    "    \n",
    "        \n",
    "print()\n",
    "print(f'Os números primos digitados são: {valores_primo}')\n"
   ]
  },
  {
   "cell_type": "markdown",
   "metadata": {},
   "source": [
    "6. Faça uma função que receba um número inteiro e positivo N como parâmetro e retorne a soma dos N números inteiros existentes entre o número 1 e esse número."
   ]
  },
  {
   "cell_type": "code",
   "execution_count": null,
   "metadata": {},
   "outputs": [],
   "source": [
    "def soma_numero(num):\n",
    "    soma = 0\n",
    "    for c in range(2, num):\n",
    "        soma += c\n",
    "    return soma\n",
    "\n",
    "num = int(input('Digite um valor para saber a soma de todos os numeros entre 1 e o número digitado: '))\n",
    "resultado = soma_numero(num)\n",
    "print(f'Resultado: {resultado}')\n"
   ]
  },
  {
   "cell_type": "markdown",
   "metadata": {},
   "source": [
    "7. Faça uma função que receba três números inteiro como parâmetros, representando horas, minutos e segundos e os converta em segundos. Exemplo 2h, 40min e 10 seg. correspondem a 9.610 segundos."
   ]
  },
  {
   "cell_type": "code",
   "execution_count": null,
   "metadata": {},
   "outputs": [],
   "source": [
    "def tempo_em_segundos(horas,minutos,segundos):\n",
    "    horas_minutos = horas * 60\n",
    "    minutos_segundos = (horas_minutos + minutos) * 60\n",
    "    return minutos_segundos + segundos\n",
    "\n",
    "horas = int(input('Digite as horas: '))\n",
    "minutos = int(input('Digite os minutos: '))\n",
    "segundos = int(input('Digite os segundos: '))\n",
    "resultado = tempo_em_segundos(horas,minutos,segundos)\n",
    "print(f'O tempo de {horas}h, {minutos}m"
   ]
  },
  {
   "cell_type": "markdown",
   "metadata": {},
   "source": [
    "8. Implemente uma função que receba um número inteiro positivo e retorne o fatorial deste número."
   ]
  },
  {
   "cell_type": "code",
   "execution_count": null,
   "metadata": {},
   "outputs": [],
   "source": [
    "def fatorial(num):\n",
    "    fatorial = 1\n",
    "    print(f'{num} = ', end='')\n",
    "    for i in range(1, num + 1):\n",
    "        fatorial *= i\n",
    "        if i == num:\n",
    "            print(f'{i}! = {fatorial}')\n",
    "        else:\n",
    "            print(f'{i}!', end = ' + ')\n",
    "\n",
    "    return fatorial\n",
    "\n",
    "num = int(input('Digite o numero para saber seu fatorial: '))\n",
    "resultado = fatorial(num)\n",
    "print(f'O fatorial de {num} é: {resultado}')\n"
   ]
  },
  {
   "cell_type": "markdown",
   "metadata": {},
   "source": [
    "9. Faça uma função que receba como parâmetro o raio de uma esfera, calcule e mostre no programa principal o seu volume, v = 4/3 * R3."
   ]
  },
  {
   "cell_type": "code",
   "execution_count": null,
   "metadata": {},
   "outputs": [],
   "source": [
    "def raio_volume(raio):\n",
    "    volume = (4/3) * (pow(raio,3)\n",
    "    return volume\n",
    "\n",
    "raio = int(input('Digite o raio para saber o volume da esfera: '))\n",
    "resultado = raio_volume(raio)\n",
    "print(f'O volume da esfera com raio tendo valor {raio} é {resultado}!')"
   ]
  },
  {
   "cell_type": "markdown",
   "metadata": {},
   "source": [
    "10. Faça uma função que receba um número inteiro positivo e retorne um valor boleano indicando se o número é primo ou não. Um número primo é aquele que é divisível por apenas ele mesmo e um."
   ]
  },
  {
   "cell_type": "code",
   "execution_count": null,
   "metadata": {},
   "outputs": [],
   "source": [
    "def verifica_primo(num):\n",
    "    cont = 0\n",
    "    for c in range (1, num+1):\n",
    "        if num % c == 0:\n",
    "            cont += 1\n",
    "    if cont == 2:\n",
    "        return True\n",
    "    else:\n",
    "        return False\n",
    "    \n",
    "num = int(input('Digite um valor para saber se ele é primo: '))\n",
    "resultado = verifica_primo(num)\n",
    "print(f'O resultado o numero digitado é: {resultado}')\n"
   ]
  },
  {
   "cell_type": "markdown",
   "metadata": {},
   "source": [
    "11. Faça uma função que receba por parâmetro um valor inteiro positivo N e retorne o valor de S.\n",
    "S = 1 1/1! + 1/2! + 1/3! + 1/4! + 1 / N!"
   ]
  },
  {
   "cell_type": "code",
   "execution_count": null,
   "metadata": {},
   "outputs": [],
   "source": [
    "def serie_euler(num):\n",
    "    fatorial = 1\n",
    "    S = 0\n",
    "    for c in range(1,num+1):\n",
    "        fatorial *= c\n",
    "        termo_atual = 1/fatorial\n",
    "        S += 1/fatorial\n",
    "        if c == num:\n",
    "            print(f'1/{c}!')\n",
    "        else:\n",
    "            print(f'1/{c}!', end = ' + ')\n",
    "        \n",
    "    return S\n",
    "\n",
    "num = int(input('Digite um valor: '))\n",
    "resultado = serie_euler(num)\n",
    "print(f'\\nO valor de S para Num = {num} é: {resultado}')\n"
   ]
  },
  {
   "cell_type": "markdown",
   "metadata": {},
   "source": [
    "12. Faça uma função que retorne o último nome de uma pessoa passado como argumento dessa função."
   ]
  },
  {
   "cell_type": "code",
   "execution_count": null,
   "metadata": {},
   "outputs": [],
   "source": [
    "def ultimo_nome(nome):\n",
    "    for ind, letra in enumerate(nome[::-1]):\n",
    "        if letra == ' ':\n",
    "            stop = len(nome) - ind - 1\n",
    "            ultimo = nome[stop+1:]\n",
    "            return ultimo\t\n",
    "\n",
    "nome = input('Digite o nome completo: ')\n",
    "resultado = ultimo_nome(nome)\n",
    "print(f'O ultimo nome é {resultado}')\n"
   ]
  }
 ],
 "metadata": {
  "language_info": {
   "name": "python"
  }
 },
 "nbformat": 4,
 "nbformat_minor": 2
}
